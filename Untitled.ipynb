{
 "cells": [
  {
   "cell_type": "code",
   "execution_count": 33,
   "id": "1059091c",
   "metadata": {},
   "outputs": [],
   "source": [
    "def net_forward(x1, x2):\n",
    "    return x1\n",
    "\n",
    "def loss_fn(pred, label1, label2):\n",
    "    ret = pred + label1 + label2\n",
    "    return ret\n",
    "\n",
    "class NetWithLoss(): #, **kwargs):\n",
    "    def __init__(self, net, loss):\n",
    "        self.net = net\n",
    "        self.loss = loss\n",
    "    \n",
    "    def __call__(self, *args):\n",
    "        print(args)\n",
    "        #print(kwargs)\n",
    "\n",
    "        out = self.net(*args[0:2])\n",
    "        out = self.loss(out, *args[2:])\n",
    "        print(out)\n",
    "\n",
    "        return out\n",
    "        #for key in kwargs:\n",
    "        #    print \"keyword arg: %s: %s\" % (key, kwargs[key])"
   ]
  },
  {
   "cell_type": "code",
   "execution_count": 35,
   "id": "7dd32066",
   "metadata": {},
   "outputs": [
    {
     "name": "stdout",
     "output_type": "stream",
     "text": [
      "(10, 0, 12, 20)\n",
      "42\n"
     ]
    },
    {
     "data": {
      "text/plain": [
       "42"
      ]
     },
     "execution_count": 35,
     "metadata": {},
     "output_type": "execute_result"
    }
   ],
   "source": [
    "x1 = 10\n",
    "x2 = 0\n",
    "label1 = 12\n",
    "label2 = 20\n",
    "\n",
    "net_with_loss = NetWithLoss(net_forward, loss_fn)\n",
    "net_with_loss(x1, x2, label1, label2)"
   ]
  },
  {
   "cell_type": "code",
   "execution_count": 44,
   "id": "1e5294e5",
   "metadata": {},
   "outputs": [
    {
     "name": "stdout",
     "output_type": "stream",
     "text": [
      "<bound method Cell.cells of LSTM<\n",
      "  (rnn): _DynamicLSTMCPUGPU<>\n",
      "  (reverse): _Reverse<>\n",
      "  (reverse_sequence): _ReverseSequence<>\n",
      "  (dropout_op): Dropout<keep_prob=1.0>\n",
      "  >>\n",
      "_DynamicLSTMCPUGPU<>\n",
      "<bound method Cell.cells of Dense<input_channels=100, output_channels=100, has_bias=True>>\n"
     ]
    }
   ],
   "source": [
    "from mindspore import nn\n",
    "\n",
    "rnn = nn.LSTM(128, 64)\n",
    "\n",
    "print(rnn.cells)\n",
    "print(rnn.rnn)\n",
    "print(nn.Dense(100,100).cells)"
   ]
  }
 ],
 "metadata": {
  "kernelspec": {
   "display_name": "Python 3 (ipykernel)",
   "language": "python",
   "name": "python3"
  },
  "language_info": {
   "codemirror_mode": {
    "name": "ipython",
    "version": 3
   },
   "file_extension": ".py",
   "mimetype": "text/x-python",
   "name": "python",
   "nbconvert_exporter": "python",
   "pygments_lexer": "ipython3",
   "version": "3.9.12"
  }
 },
 "nbformat": 4,
 "nbformat_minor": 5
}
